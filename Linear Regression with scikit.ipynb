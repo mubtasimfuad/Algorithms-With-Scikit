{
 "cells": [
  {
   "cell_type": "code",
   "execution_count": 42,
   "metadata": {},
   "outputs": [],
   "source": [
    "import pandas as pd\n",
    "import numpy as np\n",
    "import matplotlib.pyplot as plt\n",
    "import matplotlib.axes as ax\n",
    "from sklearn.model_selection import train_test_split\n",
    "from sklearn.metrics import mean_squared_error\n",
    "\n"
   ]
  },
  {
   "cell_type": "markdown",
   "metadata": {},
   "source": [
    "## Loading Data"
   ]
  },
  {
   "cell_type": "code",
   "execution_count": 43,
   "metadata": {},
   "outputs": [],
   "source": [
    "data = pd.read_csv('data_for_lr.csv')"
   ]
  },
  {
   "cell_type": "code",
   "execution_count": 44,
   "metadata": {},
   "outputs": [
    {
     "data": {
      "text/html": [
       "<div>\n",
       "<style scoped>\n",
       "    .dataframe tbody tr th:only-of-type {\n",
       "        vertical-align: middle;\n",
       "    }\n",
       "\n",
       "    .dataframe tbody tr th {\n",
       "        vertical-align: top;\n",
       "    }\n",
       "\n",
       "    .dataframe thead th {\n",
       "        text-align: right;\n",
       "    }\n",
       "</style>\n",
       "<table border=\"1\" class=\"dataframe\">\n",
       "  <thead>\n",
       "    <tr style=\"text-align: right;\">\n",
       "      <th></th>\n",
       "      <th>x</th>\n",
       "      <th>y</th>\n",
       "    </tr>\n",
       "  </thead>\n",
       "  <tbody>\n",
       "    <tr>\n",
       "      <th>0</th>\n",
       "      <td>24.0</td>\n",
       "      <td>21.549452</td>\n",
       "    </tr>\n",
       "    <tr>\n",
       "      <th>1</th>\n",
       "      <td>50.0</td>\n",
       "      <td>47.464463</td>\n",
       "    </tr>\n",
       "    <tr>\n",
       "      <th>2</th>\n",
       "      <td>15.0</td>\n",
       "      <td>17.218656</td>\n",
       "    </tr>\n",
       "    <tr>\n",
       "      <th>3</th>\n",
       "      <td>38.0</td>\n",
       "      <td>36.586398</td>\n",
       "    </tr>\n",
       "    <tr>\n",
       "      <th>4</th>\n",
       "      <td>87.0</td>\n",
       "      <td>87.288984</td>\n",
       "    </tr>\n",
       "    <tr>\n",
       "      <th>5</th>\n",
       "      <td>36.0</td>\n",
       "      <td>32.463875</td>\n",
       "    </tr>\n",
       "    <tr>\n",
       "      <th>6</th>\n",
       "      <td>12.0</td>\n",
       "      <td>10.780897</td>\n",
       "    </tr>\n",
       "    <tr>\n",
       "      <th>7</th>\n",
       "      <td>81.0</td>\n",
       "      <td>80.763399</td>\n",
       "    </tr>\n",
       "    <tr>\n",
       "      <th>8</th>\n",
       "      <td>25.0</td>\n",
       "      <td>24.612151</td>\n",
       "    </tr>\n",
       "    <tr>\n",
       "      <th>9</th>\n",
       "      <td>5.0</td>\n",
       "      <td>6.963319</td>\n",
       "    </tr>\n",
       "  </tbody>\n",
       "</table>\n",
       "</div>"
      ],
      "text/plain": [
       "      x          y\n",
       "0  24.0  21.549452\n",
       "1  50.0  47.464463\n",
       "2  15.0  17.218656\n",
       "3  38.0  36.586398\n",
       "4  87.0  87.288984\n",
       "5  36.0  32.463875\n",
       "6  12.0  10.780897\n",
       "7  81.0  80.763399\n",
       "8  25.0  24.612151\n",
       "9   5.0   6.963319"
      ]
     },
     "execution_count": 44,
     "metadata": {},
     "output_type": "execute_result"
    }
   ],
   "source": [
    "data.head(10)"
   ]
  },
  {
   "cell_type": "code",
   "execution_count": 45,
   "metadata": {},
   "outputs": [
    {
     "name": "stdout",
     "output_type": "stream",
     "text": [
      "<class 'pandas.core.frame.DataFrame'>\n",
      "RangeIndex: 700 entries, 0 to 699\n",
      "Data columns (total 2 columns):\n",
      " #   Column  Non-Null Count  Dtype  \n",
      "---  ------  --------------  -----  \n",
      " 0   x       700 non-null    float64\n",
      " 1   y       699 non-null    float64\n",
      "dtypes: float64(2)\n",
      "memory usage: 11.1 KB\n"
     ]
    }
   ],
   "source": [
    "data.info()"
   ]
  },
  {
   "cell_type": "markdown",
   "metadata": {},
   "source": [
    "## Data Preprocessing"
   ]
  },
  {
   "cell_type": "markdown",
   "metadata": {},
   "source": [
    "#### Handling NULL Value"
   ]
  },
  {
   "cell_type": "code",
   "execution_count": 46,
   "metadata": {},
   "outputs": [],
   "source": [
    "data = data.dropna()"
   ]
  },
  {
   "cell_type": "code",
   "execution_count": 47,
   "metadata": {},
   "outputs": [
    {
     "data": {
      "text/plain": [
       "(699, 2)"
      ]
     },
     "execution_count": 47,
     "metadata": {},
     "output_type": "execute_result"
    }
   ],
   "source": [
    "data.shape"
   ]
  },
  {
   "cell_type": "markdown",
   "metadata": {},
   "source": [
    "#### Splitting data"
   ]
  },
  {
   "cell_type": "code",
   "execution_count": 48,
   "metadata": {},
   "outputs": [],
   "source": [
    "x=data.iloc[:,0:1]\n",
    "y=data.iloc[:,1:2]\n",
    "x_train, x_test, y_train, y_test =  train_test_split(x, y, test_size = 0.2, random_state = 0)\n"
   ]
  },
  {
   "cell_type": "code",
   "execution_count": 49,
   "metadata": {},
   "outputs": [
    {
     "name": "stdout",
     "output_type": "stream",
     "text": [
      "        x\n",
      "0    24.0\n",
      "1    50.0\n",
      "2    15.0\n",
      "3    38.0\n",
      "4    87.0\n",
      "..    ...\n",
      "695  58.0\n",
      "696  93.0\n",
      "697  82.0\n",
      "698  66.0\n",
      "699  97.0\n",
      "\n",
      "[699 rows x 1 columns]\n"
     ]
    }
   ],
   "source": [
    "print(x)\n"
   ]
  },
  {
   "cell_type": "code",
   "execution_count": 50,
   "metadata": {},
   "outputs": [
    {
     "data": {
      "text/plain": [
       "(559, 1)"
      ]
     },
     "execution_count": 50,
     "metadata": {},
     "output_type": "execute_result"
    }
   ],
   "source": [
    "x_train.shape"
   ]
  },
  {
   "cell_type": "markdown",
   "metadata": {},
   "source": [
    "# <font color = \"green\">Linear Regression</font>"
   ]
  },
  {
   "cell_type": "markdown",
   "metadata": {},
   "source": [
    "### Training model"
   ]
  },
  {
   "cell_type": "code",
   "execution_count": 51,
   "metadata": {},
   "outputs": [],
   "source": [
    "from sklearn.linear_model import LinearRegression"
   ]
  },
  {
   "cell_type": "code",
   "execution_count": 52,
   "metadata": {},
   "outputs": [],
   "source": [
    "linear_regressor = LinearRegression()"
   ]
  },
  {
   "cell_type": "code",
   "execution_count": 53,
   "metadata": {},
   "outputs": [
    {
     "data": {
      "text/plain": [
       "LinearRegression()"
      ]
     },
     "execution_count": 53,
     "metadata": {},
     "output_type": "execute_result"
    }
   ],
   "source": [
    "linear_regressor.fit(x_train, y_train)"
   ]
  },
  {
   "cell_type": "code",
   "execution_count": 54,
   "metadata": {},
   "outputs": [
    {
     "data": {
      "text/plain": [
       "array([[0.99831656]])"
      ]
     },
     "execution_count": 54,
     "metadata": {},
     "output_type": "execute_result"
    }
   ],
   "source": [
    "linear_regressor.coef_"
   ]
  },
  {
   "cell_type": "code",
   "execution_count": 55,
   "metadata": {},
   "outputs": [
    {
     "data": {
      "text/plain": [
       "array([0.0283478])"
      ]
     },
     "execution_count": 55,
     "metadata": {},
     "output_type": "execute_result"
    }
   ],
   "source": [
    "linear_regressor.intercept_"
   ]
  },
  {
   "cell_type": "markdown",
   "metadata": {},
   "source": [
    "### Predicting Test_input"
   ]
  },
  {
   "cell_type": "code",
   "execution_count": 56,
   "metadata": {},
   "outputs": [],
   "source": [
    "predicted_value = linear_regressor.predict(x_test)"
   ]
  },
  {
   "cell_type": "code",
   "execution_count": 57,
   "metadata": {},
   "outputs": [],
   "source": [
    "\n",
    "cost = mean_squared_error(x_test, predicted_value)\n"
   ]
  },
  {
   "cell_type": "code",
   "execution_count": 58,
   "metadata": {},
   "outputs": [
    {
     "data": {
      "text/plain": [
       "0.006124610850313434"
      ]
     },
     "execution_count": 58,
     "metadata": {},
     "output_type": "execute_result"
    }
   ],
   "source": [
    "cost"
   ]
  },
  {
   "cell_type": "markdown",
   "metadata": {},
   "source": [
    "## Visualising the model performance"
   ]
  },
  {
   "cell_type": "code",
   "execution_count": 59,
   "metadata": {},
   "outputs": [
    {
     "data": {
      "image/png": "[encoded data removed]",
      "text/plain": [
       "<Figure size 432x288 with 1 Axes>"
      ]
     },
     "metadata": {
      "needs_background": "light"
     },
     "output_type": "display_data"
    }
   ],
   "source": [
    "plt.plot(x_test, y_test, '+', color = \"black\")\n",
    "plt.plot(x_test, predicted_value, '.', color = \"blue\")\n",
    "plt.title(\"Performance\")\n",
    "plt.xlabel(\"Input\")\n",
    "plt.ylabel(\"Output\")\n",
    "plt.show()"
   ]
  },
  {
   "cell_type": "code",
   "execution_count": 60,
   "metadata": {},
   "outputs": [
    {
     "data": {
      "text/html": [
       "<div>\n",
       "<style scoped>\n",
       "    .dataframe tbody tr th:only-of-type {\n",
       "        vertical-align: middle;\n",
       "    }\n",
       "\n",
       "    .dataframe tbody tr th {\n",
       "        vertical-align: top;\n",
       "    }\n",
       "\n",
       "    .dataframe thead th {\n",
       "        text-align: right;\n",
       "    }\n",
       "</style>\n",
       "<table border=\"1\" class=\"dataframe\">\n",
       "  <thead>\n",
       "    <tr style=\"text-align: right;\">\n",
       "      <th></th>\n",
       "      <th>y</th>\n",
       "    </tr>\n",
       "  </thead>\n",
       "  <tbody>\n",
       "    <tr>\n",
       "      <th>477</th>\n",
       "      <td>29.667360</td>\n",
       "    </tr>\n",
       "    <tr>\n",
       "      <th>532</th>\n",
       "      <td>56.687188</td>\n",
       "    </tr>\n",
       "    <tr>\n",
       "      <th>40</th>\n",
       "      <td>85.027790</td>\n",
       "    </tr>\n",
       "    <tr>\n",
       "      <th>433</th>\n",
       "      <td>73.138500</td>\n",
       "    </tr>\n",
       "    <tr>\n",
       "      <th>14</th>\n",
       "      <td>48.437538</td>\n",
       "    </tr>\n",
       "    <tr>\n",
       "      <th>...</th>\n",
       "      <td>...</td>\n",
       "    </tr>\n",
       "    <tr>\n",
       "      <th>311</th>\n",
       "      <td>14.002263</td>\n",
       "    </tr>\n",
       "    <tr>\n",
       "      <th>645</th>\n",
       "      <td>94.151492</td>\n",
       "    </tr>\n",
       "    <tr>\n",
       "      <th>524</th>\n",
       "      <td>40.831821</td>\n",
       "    </tr>\n",
       "    <tr>\n",
       "      <th>471</th>\n",
       "      <td>19.471008</td>\n",
       "    </tr>\n",
       "    <tr>\n",
       "      <th>45</th>\n",
       "      <td>17.609462</td>\n",
       "    </tr>\n",
       "  </tbody>\n",
       "</table>\n",
       "<p>140 rows × 1 columns</p>\n",
       "</div>"
      ],
      "text/plain": [
       "             y\n",
       "477  29.667360\n",
       "532  56.687188\n",
       "40   85.027790\n",
       "433  73.138500\n",
       "14   48.437538\n",
       "..         ...\n",
       "311  14.002263\n",
       "645  94.151492\n",
       "524  40.831821\n",
       "471  19.471008\n",
       "45   17.609462\n",
       "\n",
       "[140 rows x 1 columns]"
      ]
     },
     "execution_count": 60,
     "metadata": {},
     "output_type": "execute_result"
    }
   ],
   "source": [
    "y_test"
   ]
  },
  {
   "cell_type": "code",
   "execution_count": 61,
   "metadata": {},
   "outputs": [
    {
     "data": {
      "text/plain": [
       "array([[28.97952807],\n",
       "       [57.93070834],\n",
       "       [83.88693893],\n",
       "       [75.90040645],\n",
       "       [53.9374421 ],\n",
       "       [50.94249242],\n",
       "       [97.86337079],\n",
       "       [24.98626183],\n",
       "       [51.94080898],\n",
       "       [45.95090961],\n",
       "       [15.00309622],\n",
       "       [71.9071402 ],\n",
       "       [70.90882364],\n",
       "       [13.00646309],\n",
       "       [24.98626183],\n",
       "       [61.92397459],\n",
       "       [87.88020518],\n",
       "       [94.86842111],\n",
       "       [65.91724083],\n",
       "       [60.92565803],\n",
       "       [69.91050708],\n",
       "       [57.93070834],\n",
       "       [92.87178799],\n",
       "       [36.96606056],\n",
       "       [38.96269368],\n",
       "       [ 3.02329748],\n",
       "       [49.94417586],\n",
       "       [ 5.0199306 ],\n",
       "       [85.88357206],\n",
       "       [49.94417586],\n",
       "       [36.96606056],\n",
       "       [21.99131214],\n",
       "       [47.94754273],\n",
       "       [40.95932681],\n",
       "       [74.90208988],\n",
       "       [72.90545676],\n",
       "       [60.92565803],\n",
       "       [59.92734147],\n",
       "       [68.91219052],\n",
       "       [20.99299558],\n",
       "       [72.90545676],\n",
       "       [19.99467902],\n",
       "       [85.88357206],\n",
       "       [18.99636246],\n",
       "       [41.95764337],\n",
       "       [99.86000391],\n",
       "       [33.97111088],\n",
       "       [ 8.01488029],\n",
       "       [21.99131214],\n",
       "       [24.98626183],\n",
       "       [84.8852555 ],\n",
       "       [92.87178799],\n",
       "       [22.9896287 ],\n",
       "       [85.88357206],\n",
       "       [30.97616119],\n",
       "       [98.86168735],\n",
       "       [28.97952807],\n",
       "       [94.86842111],\n",
       "       [24.98626183],\n",
       "       [48.94585929],\n",
       "       [13.00646309],\n",
       "       [50.94249242],\n",
       "       [36.96606056],\n",
       "       [10.01151341],\n",
       "       [84.8852555 ],\n",
       "       [80.89198925],\n",
       "       [92.87178799],\n",
       "       [77.89703957],\n",
       "       [25.98457839],\n",
       "       [ 8.01488029],\n",
       "       [11.00982997],\n",
       "       [16.00141278],\n",
       "       [12.00814653],\n",
       "       [83.88693893],\n",
       "       [80.89198925],\n",
       "       [96.86505423],\n",
       "       [29.97784463],\n",
       "       [82.88862237],\n",
       "       [88.87852174],\n",
       "       [54.93575866],\n",
       "       [46.94922617],\n",
       "       [66.9155574 ],\n",
       "       [87.88020518],\n",
       "       [70.90882364],\n",
       "       [62.92229115],\n",
       "       [16.00141278],\n",
       "       [ 7.01656373],\n",
       "       [57.93070834],\n",
       "       [40.95932681],\n",
       "       [14.00477965],\n",
       "       [79.89367269],\n",
       "       [52.93912554],\n",
       "       [60.92565803],\n",
       "       [16.00141278],\n",
       "       [ 7.01656373],\n",
       "       [46.94922617],\n",
       "       [18.99636246],\n",
       "       [55.93407522],\n",
       "       [25.98457839],\n",
       "       [28.97952807],\n",
       "       [20.99299558],\n",
       "       [92.87178799],\n",
       "       [ 7.01656373],\n",
       "       [18.99636246],\n",
       "       [ 5.0199306 ],\n",
       "       [97.86337079],\n",
       "       [57.93070834],\n",
       "       [82.88862237],\n",
       "       [85.88357206],\n",
       "       [57.93070834],\n",
       "       [76.89872301],\n",
       "       [74.90208988],\n",
       "       [ 9.01319685],\n",
       "       [24.98626183],\n",
       "       [93.87010455],\n",
       "       [51.94080898],\n",
       "       [65.91724083],\n",
       "       [28.97952807],\n",
       "       [89.8768383 ],\n",
       "       [90.87515486],\n",
       "       [88.87852174],\n",
       "       [25.98457839],\n",
       "       [72.90545676],\n",
       "       [28.97952807],\n",
       "       [62.92229115],\n",
       "       [95.86673767],\n",
       "       [ 9.01319685],\n",
       "       [32.97279432],\n",
       "       [98.86168735],\n",
       "       [49.94417586],\n",
       "       [26.98289495],\n",
       "       [72.90545676],\n",
       "       [93.87010455],\n",
       "       [98.86168735],\n",
       "       [87.88020518],\n",
       "       [16.00141278],\n",
       "       [96.86505423],\n",
       "       [42.95595993],\n",
       "       [18.99636246],\n",
       "       [18.99636246]])"
      ]
     },
     "execution_count": 61,
     "metadata": {},
     "output_type": "execute_result"
    }
   ],
   "source": [
    "predicted_value"
   ]
  },
  {
   "cell_type": "code",
   "execution_count": null,
   "metadata": {},
   "outputs": [],
   "source": []
  }
 ],
 "metadata": {
  "kernelspec": {
   "display_name": "Python 3",
   "language": "python",
   "name": "python3"
  },
  "language_info": {
   "codemirror_mode": {
    "name": "ipython",
    "version": 3
   },
   "file_extension": ".py",
   "mimetype": "text/x-python",
   "name": "python",
   "nbconvert_exporter": "python",
   "pygments_lexer": "ipython3",
   "version": "3.8.3"
  }
 },
 "nbformat": 4,
 "nbformat_minor": 2
}
